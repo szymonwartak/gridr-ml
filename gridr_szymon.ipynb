{
  "nbformat": 4,
  "nbformat_minor": 0,
  "metadata": {
    "colab": {
      "name": "gridr-szymon.ipynb",
      "provenance": []
    },
    "kernelspec": {
      "name": "python3",
      "display_name": "Python 3"
    }
  },
  "cells": [
    {
      "cell_type": "markdown",
      "metadata": {
        "id": "v_uTaN8HYS7W"
      },
      "source": [
        "# SETUP"
      ]
    },
    {
      "cell_type": "code",
      "metadata": {
        "id": "5_CDFCbEMie4"
      },
      "source": [
        "import pandas as pd\n",
        "import numpy as np\n",
        "import xgboost as xgb\n",
        "import pickle\n",
        "\n",
        "from sklearn.feature_extraction.text import TfidfVectorizer\n",
        "from sklearn.model_selection import train_test_split\n",
        "from sklearn.feature_selection import chi2\n",
        "from sklearn.metrics import precision_score, recall_score, accuracy_score\n"
      ],
      "execution_count": 1,
      "outputs": []
    },
    {
      "cell_type": "markdown",
      "metadata": {
        "id": "anxWuzWaYenZ"
      },
      "source": [
        "# Data: load / explore"
      ]
    },
    {
      "cell_type": "code",
      "metadata": {
        "colab": {
          "base_uri": "https://localhost:8080/"
        },
        "id": "7PFdW1MXOlVv",
        "outputId": "708c93f9-df7d-4644-d4c7-b856ef042bfa"
      },
      "source": [
        "df = pd.read_csv('trials.csv')\n",
        "df.shape"
      ],
      "execution_count": 7,
      "outputs": [
        {
          "output_type": "execute_result",
          "data": {
            "text/plain": [
              "(1759, 3)"
            ]
          },
          "metadata": {
            "tags": []
          },
          "execution_count": 7
        }
      ]
    },
    {
      "cell_type": "code",
      "metadata": {
        "colab": {
          "base_uri": "https://localhost:8080/",
          "height": 159
        },
        "id": "Gbs2_tc6OqBx",
        "outputId": "68af19c3-cd8b-42f1-a6bf-c787452c86a5"
      },
      "source": [
        "df.head().T"
      ],
      "execution_count": 8,
      "outputs": [
        {
          "output_type": "execute_result",
          "data": {
            "text/html": [
              "<div>\n",
              "<style scoped>\n",
              "    .dataframe tbody tr th:only-of-type {\n",
              "        vertical-align: middle;\n",
              "    }\n",
              "\n",
              "    .dataframe tbody tr th {\n",
              "        vertical-align: top;\n",
              "    }\n",
              "\n",
              "    .dataframe thead th {\n",
              "        text-align: right;\n",
              "    }\n",
              "</style>\n",
              "<table border=\"1\" class=\"dataframe\">\n",
              "  <thead>\n",
              "    <tr style=\"text-align: right;\">\n",
              "      <th></th>\n",
              "      <th>0</th>\n",
              "      <th>1</th>\n",
              "      <th>2</th>\n",
              "      <th>3</th>\n",
              "      <th>4</th>\n",
              "    </tr>\n",
              "  </thead>\n",
              "  <tbody>\n",
              "    <tr>\n",
              "      <th>nctid</th>\n",
              "      <td>NCT02464748</td>\n",
              "      <td>NCT00362362</td>\n",
              "      <td>NCT03154450</td>\n",
              "      <td>NCT03487263</td>\n",
              "      <td>NCT04454892</td>\n",
              "    </tr>\n",
              "    <tr>\n",
              "      <th>description</th>\n",
              "      <td>MND is often referred to as amyotrophic latera...</td>\n",
              "      <td>OBJECTIVE:||The causes of sporadic motor neuro...</td>\n",
              "      <td>Non-invasive ventilation (NIV) use in patients...</td>\n",
              "      <td>The objectives of this study are to determine:...</td>\n",
              "      <td>With the development of supportive measures, t...</td>\n",
              "    </tr>\n",
              "    <tr>\n",
              "      <th>label</th>\n",
              "      <td>ALS</td>\n",
              "      <td>ALS</td>\n",
              "      <td>ALS</td>\n",
              "      <td>ALS</td>\n",
              "      <td>ALS</td>\n",
              "    </tr>\n",
              "  </tbody>\n",
              "</table>\n",
              "</div>"
            ],
            "text/plain": [
              "                                                             0  ...                                                  4\n",
              "nctid                                              NCT02464748  ...                                        NCT04454892\n",
              "description  MND is often referred to as amyotrophic latera...  ...  With the development of supportive measures, t...\n",
              "label                                                      ALS  ...                                                ALS\n",
              "\n",
              "[3 rows x 5 columns]"
            ]
          },
          "metadata": {
            "tags": []
          },
          "execution_count": 8
        }
      ]
    },
    {
      "cell_type": "code",
      "metadata": {
        "colab": {
          "base_uri": "https://localhost:8080/",
          "height": 235
        },
        "id": "YQ3ijDZsRXPB",
        "outputId": "d201b428-3532-4fab-ab30-2235ccab3e9e"
      },
      "source": [
        "df.groupby('label').count()"
      ],
      "execution_count": 9,
      "outputs": [
        {
          "output_type": "execute_result",
          "data": {
            "text/html": [
              "<div>\n",
              "<style scoped>\n",
              "    .dataframe tbody tr th:only-of-type {\n",
              "        vertical-align: middle;\n",
              "    }\n",
              "\n",
              "    .dataframe tbody tr th {\n",
              "        vertical-align: top;\n",
              "    }\n",
              "\n",
              "    .dataframe thead th {\n",
              "        text-align: right;\n",
              "    }\n",
              "</style>\n",
              "<table border=\"1\" class=\"dataframe\">\n",
              "  <thead>\n",
              "    <tr style=\"text-align: right;\">\n",
              "      <th></th>\n",
              "      <th>nctid</th>\n",
              "      <th>description</th>\n",
              "    </tr>\n",
              "    <tr>\n",
              "      <th>label</th>\n",
              "      <th></th>\n",
              "      <th></th>\n",
              "    </tr>\n",
              "  </thead>\n",
              "  <tbody>\n",
              "    <tr>\n",
              "      <th>ALS</th>\n",
              "      <td>368</td>\n",
              "      <td>368</td>\n",
              "    </tr>\n",
              "    <tr>\n",
              "      <th>Dementia</th>\n",
              "      <td>368</td>\n",
              "      <td>368</td>\n",
              "    </tr>\n",
              "    <tr>\n",
              "      <th>Obsessive Compulsive Disorder</th>\n",
              "      <td>358</td>\n",
              "      <td>358</td>\n",
              "    </tr>\n",
              "    <tr>\n",
              "      <th>Parkinson’s Disease</th>\n",
              "      <td>330</td>\n",
              "      <td>330</td>\n",
              "    </tr>\n",
              "    <tr>\n",
              "      <th>Scoliosis</th>\n",
              "      <td>335</td>\n",
              "      <td>335</td>\n",
              "    </tr>\n",
              "  </tbody>\n",
              "</table>\n",
              "</div>"
            ],
            "text/plain": [
              "                               nctid  description\n",
              "label                                            \n",
              "ALS                              368          368\n",
              "Dementia                         368          368\n",
              "Obsessive Compulsive Disorder    358          358\n",
              "Parkinson’s Disease              330          330\n",
              "Scoliosis                        335          335"
            ]
          },
          "metadata": {
            "tags": []
          },
          "execution_count": 9
        }
      ]
    },
    {
      "cell_type": "markdown",
      "metadata": {
        "id": "5irtwlv3lQTe"
      },
      "source": [
        "## features..."
      ]
    },
    {
      "cell_type": "code",
      "metadata": {
        "colab": {
          "base_uri": "https://localhost:8080/"
        },
        "id": "8X9D1V5FSF_0",
        "outputId": "3c604ec3-4a28-47f8-eed4-be3bc5b89838"
      },
      "source": [
        "\n",
        "tfidf = TfidfVectorizer(sublinear_tf=True, min_df=2, ngram_range=(1, 3), stop_words='english').fit(df.description)\n",
        "pickle.dump(tfidf, open(\"tfidf-descriptions.pkl\", \"wb\"))\n",
        "\n",
        "features = tfidf.transform(df.description).toarray()\n",
        "labels = df.label.to_numpy()\n",
        "print(f'feature of size {features.shape[1]}')"
      ],
      "execution_count": 30,
      "outputs": [
        {
          "output_type": "stream",
          "text": [
            "feature of size 55397\n"
          ],
          "name": "stdout"
        }
      ]
    },
    {
      "cell_type": "code",
      "metadata": {
        "colab": {
          "base_uri": "https://localhost:8080/"
        },
        "id": "E2tH9tZUTTyj",
        "outputId": "93d6023b-851c-4017-cba5-103642a2b47d"
      },
      "source": [
        "\n",
        "N = 3\n",
        "for condition in np.unique(labels): \n",
        "  features_chi2 = chi2(features, labels == condition)\n",
        "  indices = np.argsort(features_chi2[0])\n",
        "  feature_names = np.array(tfidf.get_feature_names())[indices]\n",
        "  unigrams = [v for v in feature_names if len(v.split(' ')) == 1]\n",
        "  bigrams = [v for v in feature_names if len(v.split(' ')) == 2]\n",
        "  trigrams = [v for v in feature_names if len(v.split(' ')) == 3]\n",
        "  print(condition)\n",
        "  print(\"  * Most Correlated Unigrams are: %s\" %(', '.join(unigrams[-N:])))\n",
        "  print(\"  * Most Correlated Bigrams are: %s\" %(', '.join(bigrams[-N:])))\n",
        "  print(\"  * Most Correlated Trigrams are: %s\" %(', '.join(trigrams[-N:])))"
      ],
      "execution_count": 11,
      "outputs": [
        {
          "output_type": "stream",
          "text": [
            "ALS\n",
            "  * Most Correlated Unigrams are: amyotrophic, sclerosis, als\n",
            "  * Most Correlated Bigrams are: als patients, amyotrophic lateral, lateral sclerosis\n",
            "  * Most Correlated Trigrams are: functional rating scale, lateral sclerosis als, amyotrophic lateral sclerosis\n",
            "Dementia\n",
            "  * Most Correlated Unigrams are: caregiver, caregivers, dementia\n",
            "  * Most Correlated Bigrams are: patients dementia, alzheimer disease, people dementia\n",
            "  * Most Correlated Trigrams are: alzheimer disease related, alzheimer disease ad, long term care\n",
            "Obsessive Compulsive Disorder\n",
            "  * Most Correlated Unigrams are: obsessive, compulsive, ocd\n",
            "  * Most Correlated Bigrams are: disorder ocd, compulsive disorder, obsessive compulsive\n",
            "  * Most Correlated Trigrams are: obsessive compulsive scale, compulsive disorder ocd, obsessive compulsive disorder\n",
            "Parkinson’s Disease\n",
            "  * Most Correlated Unigrams are: levodopa, parkinson, pd\n",
            "  * Most Correlated Bigrams are: pd patients, disease pd, parkinson disease\n",
            "  * Most Correlated Trigrams are: unified parkinson disease, patients parkinson disease, parkinson disease pd\n",
            "Scoliosis\n",
            "  * Most Correlated Unigrams are: spine, surgery, scoliosis\n",
            "  * Most Correlated Bigrams are: cobb angle, adolescent idiopathic, idiopathic scoliosis\n",
            "  * Most Correlated Trigrams are: posterior spinal fusion, idiopathic scoliosis ais, adolescent idiopathic scoliosis\n"
          ],
          "name": "stdout"
        }
      ]
    },
    {
      "cell_type": "markdown",
      "metadata": {
        "id": "h2bV7Q8gYjvT"
      },
      "source": [
        "# Train / test model"
      ]
    },
    {
      "cell_type": "code",
      "metadata": {
        "id": "5q3tzPoccOmD"
      },
      "source": [
        "idxToCondition = dict([(k[0], v) for k,v in np.ndenumerate(np.unique(labels))])\n",
        "conditionToIdx = dict([(v, k[0]) for k,v in np.ndenumerate(np.unique(labels))])"
      ],
      "execution_count": 12,
      "outputs": []
    },
    {
      "cell_type": "code",
      "metadata": {
        "id": "BCOZ1pjXePYp"
      },
      "source": [
        "labelsIdx = [conditionToIdx[x] for x in labels]\n"
      ],
      "execution_count": 13,
      "outputs": []
    },
    {
      "cell_type": "code",
      "metadata": {
        "id": "0FTmj_fWXpP7"
      },
      "source": [
        "\n",
        "X_train, X_test, y_train, y_test = train_test_split(features, labelsIdx, test_size=0.2)"
      ],
      "execution_count": 14,
      "outputs": []
    },
    {
      "cell_type": "code",
      "metadata": {
        "id": "WQGuCXDNYJjo"
      },
      "source": [
        "\n",
        "D_train = xgb.DMatrix(X_train, label=y_train)\n",
        "D_test = xgb.DMatrix(X_test, label=y_test)"
      ],
      "execution_count": 15,
      "outputs": []
    },
    {
      "cell_type": "code",
      "metadata": {
        "id": "_QuGMoR8cApn"
      },
      "source": [
        "param = {\n",
        "    'eta': 0.3, \n",
        "    'max_depth': 3,  \n",
        "    'objective': 'multi:softprob',  \n",
        "    'num_class': 5} \n",
        "\n",
        "steps = 20  # The number of training iterations\n",
        "model = xgb.train(param, D_train, steps)\n"
      ],
      "execution_count": 16,
      "outputs": []
    },
    {
      "cell_type": "code",
      "metadata": {
        "colab": {
          "base_uri": "https://localhost:8080/"
        },
        "id": "Ecp6ndxiOrML",
        "outputId": "56402001-6ac4-4332-ebc1-4397d11f26aa"
      },
      "source": [
        "\n",
        "preds = model.predict(D_test)\n",
        "best_preds = np.asarray([np.argmax(line) for line in preds])\n",
        "\n",
        "print(\"Precision = {}\".format(precision_score(y_test, best_preds, average='macro')))\n",
        "print(\"Recall = {}\".format(recall_score(y_test, best_preds, average='macro')))\n",
        "print(\"Accuracy = {}\".format(accuracy_score(y_test, best_preds)))"
      ],
      "execution_count": 17,
      "outputs": [
        {
          "output_type": "stream",
          "text": [
            "Precision = 0.8897249304788375\n",
            "Recall = 0.8898784487388527\n",
            "Accuracy = 0.8892045454545454\n"
          ],
          "name": "stdout"
        }
      ]
    },
    {
      "cell_type": "code",
      "metadata": {
        "id": "_0qpm3WTg9je"
      },
      "source": [
        "model.save_model('v_0_1.model')\n",
        "# pickle.dump(model, open('v_0_1.pkl', \"wb\"))\n"
      ],
      "execution_count": 31,
      "outputs": []
    },
    {
      "cell_type": "markdown",
      "metadata": {
        "id": "LGT0-9axVBGQ"
      },
      "source": [
        "## new data"
      ]
    },
    {
      "cell_type": "code",
      "metadata": {
        "id": "4PjkF_E8uLDQ"
      },
      "source": [
        "bst = xgb.Booster()\n",
        "model2 = bst.load_model('v_0_1.model')\n",
        "# model2 = pickle.load(open('v_0_1.pkl', \"rb\"))\n",
        "\n",
        "\n",
        "tf2 = pickle.load(open(\"tfidf-descriptions.pkl\", 'rb'))\n",
        "tfidf2 = TfidfVectorizer(sublinear_tf=True, min_df=2, ngram_range=(1, 3), stop_words='english',\n",
        "                        vocabulary = tf2.vocabulary_)\n"
      ],
      "execution_count": 20,
      "outputs": []
    },
    {
      "cell_type": "code",
      "metadata": {
        "colab": {
          "base_uri": "https://localhost:8080/"
        },
        "id": "aDuKd6JzVNQw",
        "outputId": "99a4f248-b485-42e7-8bfe-1b005c42efc0"
      },
      "source": [
        "text = \"Patients were randomly administered either real (n = 12) or sham (n = 10) rTMS, once a day, 5 days a week, for 2 weeks. Randomization was performed according to a computer-generated schedule. Subjects and scale-rater physician were blind to treatment status of individuals. Only the rTMS administrator was aware of group allocations. Treatment response was assessed by self-and clinician-rated scales before treatment, immediately after treatment and 3 months thereafter, with the same examiner following a subject throughout the study. All patients included in the study had failed adequate pharmacological treatment for at least 2 antiobsessional drugs. Their prescription drugs were continued without change in dosage regimens throughout the study.\"\n",
        "f1 = tfidf2.fit_transform([text]).toarray()\n",
        "ypred = model.predict(xgb.DMatrix(f1))\n",
        "print(idxToCondition[np.argmax(ypred)])"
      ],
      "execution_count": 28,
      "outputs": [
        {
          "output_type": "stream",
          "text": [
            "ALS\n",
            "Obsessive Compulsive Disorder\n"
          ],
          "name": "stdout"
        }
      ]
    }
  ]
}