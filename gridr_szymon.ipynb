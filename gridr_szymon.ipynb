{
 "cells": [
  {
   "cell_type": "markdown",
   "metadata": {
    "id": "v_uTaN8HYS7W"
   },
   "source": [
    "# SETUP"
   ]
  },
  {
   "cell_type": "code",
   "execution_count": 20,
   "metadata": {
    "id": "5_CDFCbEMie4"
   },
   "outputs": [],
   "source": [
    "import pandas as pd\n",
    "import numpy as np\n",
    "import xgboost as xgb\n",
    "import pickle\n",
    "import nltk\n",
    "import seaborn as sns\n",
    "from matplotlib import pyplot as plt\n",
    "sns.set() \n",
    "\n",
    "from sklearn.feature_extraction.text import TfidfVectorizer\n",
    "from sklearn.model_selection import train_test_split\n",
    "from sklearn.feature_selection import chi2\n",
    "from sklearn.metrics import precision_score, recall_score, accuracy_score\n"
   ]
  },
  {
   "cell_type": "code",
   "execution_count": 2,
   "metadata": {},
   "outputs": [
    {
     "name": "stderr",
     "output_type": "stream",
     "text": [
      "[nltk_data] Downloading package punkt to /home/ubuntu/nltk_data...\n",
      "[nltk_data]   Package punkt is already up-to-date!\n",
      "[nltk_data] Downloading package wordnet to /home/ubuntu/nltk_data...\n",
      "[nltk_data]   Package wordnet is already up-to-date!\n"
     ]
    },
    {
     "data": {
      "text/plain": [
       "True"
      ]
     },
     "execution_count": 2,
     "metadata": {},
     "output_type": "execute_result"
    }
   ],
   "source": [
    "nltk.download('punkt')\n",
    "nltk.download('wordnet')\n"
   ]
  },
  {
   "cell_type": "markdown",
   "metadata": {
    "id": "anxWuzWaYenZ"
   },
   "source": [
    "# Data: load / explore"
   ]
  },
  {
   "cell_type": "code",
   "execution_count": 3,
   "metadata": {
    "colab": {
     "base_uri": "https://localhost:8080/"
    },
    "id": "7PFdW1MXOlVv",
    "outputId": "708c93f9-df7d-4644-d4c7-b856ef042bfa"
   },
   "outputs": [
    {
     "data": {
      "text/plain": [
       "(1759, 3)"
      ]
     },
     "execution_count": 3,
     "metadata": {},
     "output_type": "execute_result"
    }
   ],
   "source": [
    "df = pd.read_csv('data/trials.csv')\n",
    "df.shape"
   ]
  },
  {
   "cell_type": "code",
   "execution_count": 4,
   "metadata": {
    "colab": {
     "base_uri": "https://localhost:8080/",
     "height": 159
    },
    "id": "Gbs2_tc6OqBx",
    "outputId": "68af19c3-cd8b-42f1-a6bf-c787452c86a5"
   },
   "outputs": [
    {
     "data": {
      "text/html": [
       "<div>\n",
       "<style scoped>\n",
       "    .dataframe tbody tr th:only-of-type {\n",
       "        vertical-align: middle;\n",
       "    }\n",
       "\n",
       "    .dataframe tbody tr th {\n",
       "        vertical-align: top;\n",
       "    }\n",
       "\n",
       "    .dataframe thead th {\n",
       "        text-align: right;\n",
       "    }\n",
       "</style>\n",
       "<table border=\"1\" class=\"dataframe\">\n",
       "  <thead>\n",
       "    <tr style=\"text-align: right;\">\n",
       "      <th></th>\n",
       "      <th>0</th>\n",
       "      <th>1</th>\n",
       "      <th>2</th>\n",
       "      <th>3</th>\n",
       "      <th>4</th>\n",
       "    </tr>\n",
       "  </thead>\n",
       "  <tbody>\n",
       "    <tr>\n",
       "      <th>nctid</th>\n",
       "      <td>NCT02464748</td>\n",
       "      <td>NCT00362362</td>\n",
       "      <td>NCT03154450</td>\n",
       "      <td>NCT03487263</td>\n",
       "      <td>NCT04454892</td>\n",
       "    </tr>\n",
       "    <tr>\n",
       "      <th>description</th>\n",
       "      <td>MND is often referred to as amyotrophic latera...</td>\n",
       "      <td>OBJECTIVE:||The causes of sporadic motor neuro...</td>\n",
       "      <td>Non-invasive ventilation (NIV) use in patients...</td>\n",
       "      <td>The objectives of this study are to determine:...</td>\n",
       "      <td>With the development of supportive measures, t...</td>\n",
       "    </tr>\n",
       "    <tr>\n",
       "      <th>label</th>\n",
       "      <td>ALS</td>\n",
       "      <td>ALS</td>\n",
       "      <td>ALS</td>\n",
       "      <td>ALS</td>\n",
       "      <td>ALS</td>\n",
       "    </tr>\n",
       "  </tbody>\n",
       "</table>\n",
       "</div>"
      ],
      "text/plain": [
       "                                                             0  \\\n",
       "nctid                                              NCT02464748   \n",
       "description  MND is often referred to as amyotrophic latera...   \n",
       "label                                                      ALS   \n",
       "\n",
       "                                                             1  \\\n",
       "nctid                                              NCT00362362   \n",
       "description  OBJECTIVE:||The causes of sporadic motor neuro...   \n",
       "label                                                      ALS   \n",
       "\n",
       "                                                             2  \\\n",
       "nctid                                              NCT03154450   \n",
       "description  Non-invasive ventilation (NIV) use in patients...   \n",
       "label                                                      ALS   \n",
       "\n",
       "                                                             3  \\\n",
       "nctid                                              NCT03487263   \n",
       "description  The objectives of this study are to determine:...   \n",
       "label                                                      ALS   \n",
       "\n",
       "                                                             4  \n",
       "nctid                                              NCT04454892  \n",
       "description  With the development of supportive measures, t...  \n",
       "label                                                      ALS  "
      ]
     },
     "execution_count": 4,
     "metadata": {},
     "output_type": "execute_result"
    }
   ],
   "source": [
    "df.head().T"
   ]
  },
  {
   "cell_type": "markdown",
   "metadata": {},
   "source": [
    "#### Verify that the sizes of the groups are the same as in the task description"
   ]
  },
  {
   "cell_type": "code",
   "execution_count": 5,
   "metadata": {
    "colab": {
     "base_uri": "https://localhost:8080/",
     "height": 235
    },
    "id": "YQ3ijDZsRXPB",
    "outputId": "d201b428-3532-4fab-ab30-2235ccab3e9e"
   },
   "outputs": [
    {
     "data": {
      "text/html": [
       "<div>\n",
       "<style scoped>\n",
       "    .dataframe tbody tr th:only-of-type {\n",
       "        vertical-align: middle;\n",
       "    }\n",
       "\n",
       "    .dataframe tbody tr th {\n",
       "        vertical-align: top;\n",
       "    }\n",
       "\n",
       "    .dataframe thead th {\n",
       "        text-align: right;\n",
       "    }\n",
       "</style>\n",
       "<table border=\"1\" class=\"dataframe\">\n",
       "  <thead>\n",
       "    <tr style=\"text-align: right;\">\n",
       "      <th></th>\n",
       "      <th>nctid</th>\n",
       "      <th>description</th>\n",
       "    </tr>\n",
       "    <tr>\n",
       "      <th>label</th>\n",
       "      <th></th>\n",
       "      <th></th>\n",
       "    </tr>\n",
       "  </thead>\n",
       "  <tbody>\n",
       "    <tr>\n",
       "      <th>ALS</th>\n",
       "      <td>368</td>\n",
       "      <td>368</td>\n",
       "    </tr>\n",
       "    <tr>\n",
       "      <th>Dementia</th>\n",
       "      <td>368</td>\n",
       "      <td>368</td>\n",
       "    </tr>\n",
       "    <tr>\n",
       "      <th>Obsessive Compulsive Disorder</th>\n",
       "      <td>358</td>\n",
       "      <td>358</td>\n",
       "    </tr>\n",
       "    <tr>\n",
       "      <th>Parkinson’s Disease</th>\n",
       "      <td>330</td>\n",
       "      <td>330</td>\n",
       "    </tr>\n",
       "    <tr>\n",
       "      <th>Scoliosis</th>\n",
       "      <td>335</td>\n",
       "      <td>335</td>\n",
       "    </tr>\n",
       "  </tbody>\n",
       "</table>\n",
       "</div>"
      ],
      "text/plain": [
       "                               nctid  description\n",
       "label                                            \n",
       "ALS                              368          368\n",
       "Dementia                         368          368\n",
       "Obsessive Compulsive Disorder    358          358\n",
       "Parkinson’s Disease              330          330\n",
       "Scoliosis                        335          335"
      ]
     },
     "execution_count": 5,
     "metadata": {},
     "output_type": "execute_result"
    }
   ],
   "source": [
    "df.groupby('label').count()"
   ]
  },
  {
   "cell_type": "code",
   "execution_count": 6,
   "metadata": {},
   "outputs": [],
   "source": [
    "from nltk.tokenize import RegexpTokenizer\n",
    "tokenizer = RegexpTokenizer(r'\\w+')\n"
   ]
  },
  {
   "cell_type": "markdown",
   "metadata": {},
   "source": [
    "#### Looking at sentence and word numbers to find descriptions that won't be informative enough to classify"
   ]
  },
  {
   "cell_type": "code",
   "execution_count": 7,
   "metadata": {},
   "outputs": [
    {
     "data": {
      "text/plain": [
       "(1759, 5)"
      ]
     },
     "execution_count": 7,
     "metadata": {},
     "output_type": "execute_result"
    }
   ],
   "source": [
    "def processDesc(desc):\n",
    "    '''clean up special (paragraph?) characters for sentence parsing'''\n",
    "    return desc.replace('||', ' ')\n",
    "\n",
    "df['num_sents'] = df['description'].apply(lambda x: len(nltk.sent_tokenize(processDesc(x))))\n",
    "df['num_words'] = df['description'].apply(lambda x: len(tokenizer.tokenize(x)))\n"
   ]
  },
  {
   "cell_type": "code",
   "execution_count": 39,
   "metadata": {},
   "outputs": [
    {
     "data": {
      "text/plain": [
       "0       MND is often referred to as amyotrophic latera...\n",
       "7       The National ALS Registry's Research Notificat...\n",
       "33      The objective of this research is to pursue po...\n",
       "35      Phase 2/3 trial in ALS patients Double-blinded...\n",
       "57      Open Safety and Tolerability study to evaluate...\n",
       "                              ...                        \n",
       "1728    As secondary objective, the study aims to stud...\n",
       "1729    As secondary objectives, the study aims:||to e...\n",
       "1732    Aim 1: To identify genetic variants in selecte...\n",
       "1739    Design: Prospective study|Inclusion criteria o...\n",
       "1746    This is a prospective multi-center, noninterve...\n",
       "Name: description, Length: 92, dtype: object"
      ]
     },
     "execution_count": 39,
     "metadata": {},
     "output_type": "execute_result"
    }
   ],
   "source": [
    "## sentence length doesn't flag up anomalies well\n",
    "df[df['num_sents'] == 1]['description']"
   ]
  },
  {
   "cell_type": "code",
   "execution_count": 38,
   "metadata": {},
   "outputs": [
    {
     "data": {
      "text/plain": [
       "0       MND is often referred to as amyotrophic latera...\n",
       "7       The National ALS Registry's Research Notificat...\n",
       "127      This study is an extension study of NCT03626012.\n",
       "192                There is no more extensive information\n",
       "305     Phase II open labeled trial testing the effica...\n",
       "350     Screening of up to 4 weeks Treatment of up to ...\n",
       "365     Due to limited participation, this study has c...\n",
       "406                    See Brief Summary for description.\n",
       "448                                             see above\n",
       "520     Written consent form. Completing ICBT in our p...\n",
       "541     Please see the brief summary for study descrip...\n",
       "877     This case -control observational prospective s...\n",
       "944     We are studying & researching the effect of Cr...\n",
       "985                              no extensive description\n",
       "1019    Multinational, multicenter, randomized, parall...\n",
       "1097    Outcome measures were what subjects wanted if ...\n",
       "1355    Design:||Cluster-randomized controlled trial w...\n",
       "1440    screw purchase was to be recorded but study ha...\n",
       "1596                        The study has been completed.\n",
       "1689                                            See above\n",
       "Name: description, dtype: object"
      ]
     },
     "execution_count": 38,
     "metadata": {},
     "output_type": "execute_result"
    }
   ],
   "source": [
    "## very short descriptions can highlight lack of information about the study\n",
    "df[df['num_words'] < 20]['description']"
   ]
  },
  {
   "cell_type": "code",
   "execution_count": 34,
   "metadata": {},
   "outputs": [
    {
     "data": {
      "image/png": "[encoded data removed]",
      "text/plain": [
       "<Figure size 1080x360 with 2 Axes>"
      ]
     },
     "metadata": {},
     "output_type": "display_data"
    }
   ],
   "source": [
    "fig, axes = plt.subplots(1, 2,figsize=(15,5))\n",
    "ax = sns.boxplot(x=\"label\", y=\"num_words\", data=df, palette=\"Set3\", ax=axes[0]).set_title('Sentence length box plot')\n",
    "ax = sns.boxplot(x=\"label\", y=\"num_sents\", data=df, palette=\"Set3\", ax=axes[1]).set_title('Sentence length box plot')\n"
   ]
  },
  {
   "cell_type": "markdown",
   "metadata": {
    "id": "5irtwlv3lQTe"
   },
   "source": [
    "## features..."
   ]
  },
  {
   "cell_type": "code",
   "execution_count": 41,
   "metadata": {
    "colab": {
     "base_uri": "https://localhost:8080/"
    },
    "id": "8X9D1V5FSF_0",
    "outputId": "3c604ec3-4a28-47f8-eed4-be3bc5b89838"
   },
   "outputs": [
    {
     "name": "stdout",
     "output_type": "stream",
     "text": [
      "feature of size 55397\n"
     ]
    }
   ],
   "source": [
    "\n",
    "tfidf = TfidfVectorizer(sublinear_tf=True, min_df=2, ngram_range=(1, 3), stop_words='english').fit(df.description)\n",
    "pickle.dump(tfidf, open(\"tfidf-descriptions.pkl\", \"wb\"))\n",
    "\n",
    "features = tfidf.transform(df.description).toarray()\n",
    "labels = df.label.to_numpy()\n",
    "print(f'feature of size {features.shape[1]}')"
   ]
  },
  {
   "cell_type": "code",
   "execution_count": 6,
   "metadata": {
    "colab": {
     "base_uri": "https://localhost:8080/"
    },
    "id": "E2tH9tZUTTyj",
    "outputId": "93d6023b-851c-4017-cba5-103642a2b47d"
   },
   "outputs": [
    {
     "name": "stdout",
     "output_type": "stream",
     "text": [
      "ALS\n",
      "  * Most Correlated Unigrams are: amyotrophic, sclerosis, als\n",
      "  * Most Correlated Bigrams are: als patients, amyotrophic lateral, lateral sclerosis\n",
      "  * Most Correlated Trigrams are: functional rating scale, lateral sclerosis als, amyotrophic lateral sclerosis\n",
      "Dementia\n",
      "  * Most Correlated Unigrams are: caregiver, caregivers, dementia\n",
      "  * Most Correlated Bigrams are: patients dementia, alzheimer disease, people dementia\n",
      "  * Most Correlated Trigrams are: alzheimer disease related, alzheimer disease ad, long term care\n",
      "Obsessive Compulsive Disorder\n",
      "  * Most Correlated Unigrams are: obsessive, compulsive, ocd\n",
      "  * Most Correlated Bigrams are: disorder ocd, compulsive disorder, obsessive compulsive\n",
      "  * Most Correlated Trigrams are: obsessive compulsive scale, compulsive disorder ocd, obsessive compulsive disorder\n",
      "Parkinson’s Disease\n",
      "  * Most Correlated Unigrams are: levodopa, parkinson, pd\n",
      "  * Most Correlated Bigrams are: pd patients, disease pd, parkinson disease\n",
      "  * Most Correlated Trigrams are: unified parkinson disease, patients parkinson disease, parkinson disease pd\n",
      "Scoliosis\n",
      "  * Most Correlated Unigrams are: spine, surgery, scoliosis\n",
      "  * Most Correlated Bigrams are: cobb angle, adolescent idiopathic, idiopathic scoliosis\n",
      "  * Most Correlated Trigrams are: posterior spinal fusion, idiopathic scoliosis ais, adolescent idiopathic scoliosis\n"
     ]
    }
   ],
   "source": [
    "\n",
    "N = 3\n",
    "for condition in np.unique(labels): \n",
    "  features_chi2 = chi2(features, labels == condition)\n",
    "  indices = np.argsort(features_chi2[0])\n",
    "  feature_names = np.array(tfidf.get_feature_names())[indices]\n",
    "  unigrams = [v for v in feature_names if len(v.split(' ')) == 1]\n",
    "  bigrams = [v for v in feature_names if len(v.split(' ')) == 2]\n",
    "  trigrams = [v for v in feature_names if len(v.split(' ')) == 3]\n",
    "  print(condition)\n",
    "  print(\"  * Most Correlated Unigrams are: %s\" %(', '.join(unigrams[-N:])))\n",
    "  print(\"  * Most Correlated Bigrams are: %s\" %(', '.join(bigrams[-N:])))\n",
    "  print(\"  * Most Correlated Trigrams are: %s\" %(', '.join(trigrams[-N:])))"
   ]
  },
  {
   "cell_type": "markdown",
   "metadata": {},
   "source": [
    "#### All n-gram words with high correlations to their label align well with the corresponding label"
   ]
  },
  {
   "cell_type": "markdown",
   "metadata": {
    "id": "h2bV7Q8gYjvT"
   },
   "source": [
    "# Train / test model"
   ]
  },
  {
   "cell_type": "code",
   "execution_count": 42,
   "metadata": {
    "id": "5q3tzPoccOmD"
   },
   "outputs": [],
   "source": [
    "# we'll need these later to lookup the label from an index\n",
    "idxToCondition = dict([(k[0], v) for k,v in np.ndenumerate(np.unique(labels))])\n",
    "conditionToIdx = dict([(v, k[0]) for k,v in np.ndenumerate(np.unique(labels))])"
   ]
  },
  {
   "cell_type": "markdown",
   "metadata": {},
   "source": [
    "#### XGBoost generally produces good classification results. I won't be comparing other models at this stage"
   ]
  },
  {
   "cell_type": "code",
   "execution_count": 8,
   "metadata": {
    "id": "BCOZ1pjXePYp"
   },
   "outputs": [],
   "source": [
    "labelsIdx = [conditionToIdx[x] for x in labels]\n"
   ]
  },
  {
   "cell_type": "code",
   "execution_count": 9,
   "metadata": {
    "id": "0FTmj_fWXpP7"
   },
   "outputs": [],
   "source": [
    "\n",
    "X_train, X_test, y_train, y_test = train_test_split(features, labelsIdx, test_size=0.2)"
   ]
  },
  {
   "cell_type": "code",
   "execution_count": 10,
   "metadata": {
    "id": "WQGuCXDNYJjo"
   },
   "outputs": [],
   "source": [
    "\n",
    "D_train = xgb.DMatrix(X_train, label=y_train)\n",
    "D_test = xgb.DMatrix(X_test, label=y_test)"
   ]
  },
  {
   "cell_type": "markdown",
   "metadata": {},
   "source": [
    "#### Should do cross validation here for better precision/accuracy numbers; Also, might be worth tuning model parameters"
   ]
  },
  {
   "cell_type": "code",
   "execution_count": 14,
   "metadata": {
    "id": "_QuGMoR8cApn"
   },
   "outputs": [
    {
     "name": "stdout",
     "output_type": "stream",
     "text": [
      "[21:54:49] WARNING: /tmp/pip-build-dtcjtwry/xgboost/build/temp.linux-x86_64-3.6/xgboost/src/learner.cc:1061: Starting in XGBoost 1.3.0, the default evaluation metric used with the objective 'multi:softprob' was changed from 'merror' to 'mlogloss'. Explicitly set eval_metric if you'd like to restore the old behavior.\n"
     ]
    }
   ],
   "source": [
    "param = {\n",
    "    'eta': 0.3, \n",
    "    'max_depth': 3,  \n",
    "    'objective': 'multi:softprob',  \n",
    "    'num_class': 5\n",
    "} \n",
    "\n",
    "steps = 20\n",
    "model = xgb.train(param, D_train, steps)\n"
   ]
  },
  {
   "cell_type": "code",
   "execution_count": 15,
   "metadata": {
    "colab": {
     "base_uri": "https://localhost:8080/"
    },
    "id": "Ecp6ndxiOrML",
    "outputId": "56402001-6ac4-4332-ebc1-4397d11f26aa"
   },
   "outputs": [
    {
     "name": "stdout",
     "output_type": "stream",
     "text": [
      "Precision = 0.9064071620075609\n",
      "Recall = 0.9014745463270494\n",
      "Accuracy = 0.90625\n"
     ]
    }
   ],
   "source": [
    "\n",
    "preds = model.predict(D_test)\n",
    "best_preds = np.asarray([np.argmax(line) for line in preds])\n",
    "\n",
    "print(\"Precision = {}\".format(precision_score(y_test, best_preds, average='macro')))\n",
    "print(\"Recall = {}\".format(recall_score(y_test, best_preds, average='macro')))\n",
    "print(\"Accuracy = {}\".format(accuracy_score(y_test, best_preds)))"
   ]
  },
  {
   "cell_type": "markdown",
   "metadata": {},
   "source": [
    "#### Numbers aren't bad. Export the models for the service"
   ]
  },
  {
   "cell_type": "code",
   "execution_count": 20,
   "metadata": {
    "id": "_0qpm3WTg9je"
   },
   "outputs": [],
   "source": [
    "# model.save_model('v_0_1.model')\n",
    "pickle.dump(model, open('v_0_1.pkl', \"wb\"))\n"
   ]
  },
  {
   "cell_type": "code",
   "execution_count": 24,
   "metadata": {},
   "outputs": [],
   "source": [
    "import json\n",
    "with open('idxToCondition.json', 'w') as f:\n",
    "    json.dump(idxToCondition, f)"
   ]
  },
  {
   "cell_type": "markdown",
   "metadata": {
    "id": "LGT0-9axVBGQ"
   },
   "source": [
    "#### new data - will be used in service"
   ]
  },
  {
   "cell_type": "code",
   "execution_count": 21,
   "metadata": {
    "id": "4PjkF_E8uLDQ"
   },
   "outputs": [],
   "source": [
    "# bst = xgb.Booster()\n",
    "# model2 = bst.load_model('v_0_1.model')\n",
    "model2 = pickle.load(open('v_0_1.pkl', \"rb\"))\n",
    "\n",
    "\n",
    "tf2 = pickle.load(open(\"tfidf-descriptions.pkl\", 'rb'))\n",
    "tfidf2 = TfidfVectorizer(sublinear_tf=True, min_df=2, ngram_range=(1, 3), stop_words='english',\n",
    "                        vocabulary = tf2.vocabulary_)\n"
   ]
  },
  {
   "cell_type": "code",
   "execution_count": 22,
   "metadata": {
    "colab": {
     "base_uri": "https://localhost:8080/"
    },
    "id": "aDuKd6JzVNQw",
    "outputId": "99a4f248-b485-42e7-8bfe-1b005c42efc0"
   },
   "outputs": [
    {
     "name": "stdout",
     "output_type": "stream",
     "text": [
      "ALS\n"
     ]
    }
   ],
   "source": [
    "text = \"Patients were randomly administered either real (n = 12) or sham (n = 10) rTMS, once a day, 5 days a week, for 2 weeks. Randomization was performed according to a computer-generated schedule. Subjects and scale-rater physician were blind to treatment status of individuals. Only the rTMS administrator was aware of group allocations. Treatment response was assessed by self-and clinician-rated scales before treatment, immediately after treatment and 3 months thereafter, with the same examiner following a subject throughout the study. All patients included in the study had failed adequate pharmacological treatment for at least 2 antiobsessional drugs. Their prescription drugs were continued without change in dosage regimens throughout the study.\"\n",
    "f1 = tfidf2.fit_transform([text]).toarray()\n",
    "ypred = model.predict(xgb.DMatrix(f1))\n",
    "print(idxToCondition[np.argmax(ypred)])"
   ]
  },
  {
   "cell_type": "code",
   "execution_count": null,
   "metadata": {},
   "outputs": [],
   "source": []
  }
 ],
 "metadata": {
  "colab": {
   "name": "gridr-szymon.ipynb",
   "provenance": []
  },
  "kernelspec": {
   "display_name": "Python 3",
   "language": "python",
   "name": "python3"
  },
  "language_info": {
   "codemirror_mode": {
    "name": "ipython",
    "version": 3
   },
   "file_extension": ".py",
   "mimetype": "text/x-python",
   "name": "python",
   "nbconvert_exporter": "python",
   "pygments_lexer": "ipython3",
   "version": "3.6.9"
  }
 },
 "nbformat": 4,
 "nbformat_minor": 4
}
